{
 "cells": [
  {
   "cell_type": "code",
   "execution_count": 1,
   "metadata": {
    "collapsed": true
   },
   "outputs": [],
   "source": [
    "import pycuda.driver as cuda\n",
    "import pycuda.autoinit\n",
    "from pycuda.compiler import SourceModule\n",
    "import numpy\n",
    "import time"
   ]
  },
  {
   "cell_type": "code",
   "execution_count": 6,
   "metadata": {
    "collapsed": false
   },
   "outputs": [],
   "source": [
    "msize = 20000\n",
    "a = numpy.random.randn(msize, msize)"
   ]
  },
  {
   "cell_type": "code",
   "execution_count": 7,
   "metadata": {
    "collapsed": false
   },
   "outputs": [
    {
     "name": "stdout",
     "output_type": "stream",
     "text": [
      "1600000000\n",
      "7.12400007248\n",
      "-0.974352\n",
      "0.274014\n"
     ]
    }
   ],
   "source": [
    "time_start = time.time()\n",
    "a = a.astype(numpy.float32)\n",
    "print a.nbytes\n",
    "a_gpu = cuda.mem_alloc(a.nbytes)\n",
    "cuda.memcpy_htod(a_gpu, a)\n",
    "\n",
    "mod = SourceModule(\"\"\"\n",
    "#include <math.h>\n",
    "  __global__ void myfunc(float *a)\n",
    "  {\n",
    "    int idx = blockIdx.x * blockDim.x + threadIdx.x;\n",
    "    a[idx] =  1 / (1+exp(-1 * a[idx]));\n",
    "  }\n",
    "  \"\"\")\n",
    "func = mod.get_function(\"myfunc\")\n",
    "func(a_gpu, block=(1024,1,1), grid=(int(msize*msize/1024)+1,1,1))\n",
    "a_doubled = numpy.empty_like(a)\n",
    "cuda.memcpy_dtoh(a_doubled, a_gpu)\n",
    "print time.time() - time_start\n",
    "print a[0][0]\n",
    "print a_doubled[0][0]"
   ]
  },
  {
   "cell_type": "code",
   "execution_count": 8,
   "metadata": {
    "collapsed": false
   },
   "outputs": [
    {
     "name": "stdout",
     "output_type": "stream",
     "text": [
      "9.46700000763\n",
      "-0.974352\n",
      "0.274014\n"
     ]
    }
   ],
   "source": [
    "time_start = time.time()\n",
    "b = 1 / (1 + numpy.exp(-1 * a))\n",
    "print time.time() - time_start\n",
    "print a[0][0]\n",
    "print b[0][0]"
   ]
  },
  {
   "cell_type": "code",
   "execution_count": null,
   "metadata": {
    "collapsed": true
   },
   "outputs": [],
   "source": []
  }
 ],
 "metadata": {
  "anaconda-cloud": {},
  "kernelspec": {
   "display_name": "Python [conda root]",
   "language": "python",
   "name": "conda-root-py"
  },
  "language_info": {
   "codemirror_mode": {
    "name": "ipython",
    "version": 2
   },
   "file_extension": ".py",
   "mimetype": "text/x-python",
   "name": "python",
   "nbconvert_exporter": "python",
   "pygments_lexer": "ipython2",
   "version": "2.7.12"
  }
 },
 "nbformat": 4,
 "nbformat_minor": 1
}
